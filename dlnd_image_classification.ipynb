{
 "cells": [
  {
   "cell_type": "markdown",
   "metadata": {
    "collapsed": true
   },
   "source": [
    "# 图像分类\n",
    "\n",
    "在此项目中，你将对 [CIFAR-10 数据集](https://www.cs.toronto.edu/~kriz/cifar.html) 中的图片进行分类。该数据集包含飞机、猫狗和其他物体。你需要预处理这些图片，然后用所有样本训练一个卷积神经网络。图片需要标准化（normalized），标签需要采用 one-hot 编码。你需要应用所学的知识构建卷积的、最大池化（max pooling）、丢弃（dropout）和完全连接（fully connected）的层。最后，你需要在样本图片上看到神经网络的预测结果。\n",
    "\n",
    "\n",
    "## 获取数据\n",
    "\n",
    "请运行以下单元，以下载 [CIFAR-10 数据集（Python版）](https://www.cs.toronto.edu/~kriz/cifar-10-python.tar.gz)。\n"
   ]
  },
  {
   "cell_type": "code",
   "execution_count": 1,
   "metadata": {
    "collapsed": false
   },
   "outputs": [
    {
     "name": "stdout",
     "output_type": "stream",
     "text": [
      "All files found!\n"
     ]
    }
   ],
   "source": [
    "\"\"\"\n",
    "DON'T MODIFY ANYTHING IN THIS CELL THAT IS BELOW THIS LINE\n",
    "\"\"\"\n",
    "from urllib.request import urlretrieve\n",
    "from os.path import isfile, isdir\n",
    "from tqdm import tqdm\n",
    "import problem_unittests as tests\n",
    "import tarfile\n",
    "\n",
    "cifar10_dataset_folder_path = 'cifar-10-batches-py'\n",
    "\n",
    "# Use Floyd's cifar-10 dataset if present\n",
    "floyd_cifar10_location = '/input/cifar-10/python.tar.gz'\n",
    "if isfile(floyd_cifar10_location):\n",
    "    tar_gz_path = floyd_cifar10_location\n",
    "else:\n",
    "    tar_gz_path = 'cifar-10-python.tar.gz'\n",
    "\n",
    "class DLProgress(tqdm):\n",
    "    last_block = 0\n",
    "\n",
    "    def hook(self, block_num=1, block_size=1, total_size=None):\n",
    "        self.total = total_size\n",
    "        self.update((block_num - self.last_block) * block_size)\n",
    "        self.last_block = block_num\n",
    "\n",
    "if not isfile(tar_gz_path):\n",
    "    with DLProgress(unit='B', unit_scale=True, miniters=1, desc='CIFAR-10 Dataset') as pbar:\n",
    "        urlretrieve(\n",
    "            'https://www.cs.toronto.edu/~kriz/cifar-10-python.tar.gz',\n",
    "            tar_gz_path,\n",
    "            pbar.hook)\n",
    "\n",
    "if not isdir(cifar10_dataset_folder_path):\n",
    "    with tarfile.open(tar_gz_path) as tar:\n",
    "        tar.extractall()\n",
    "        tar.close()\n",
    "\n",
    "\n",
    "tests.test_folder_path(cifar10_dataset_folder_path)"
   ]
  },
  {
   "cell_type": "markdown",
   "metadata": {},
   "source": [
    "## 探索数据\n",
    "\n",
    "该数据集分成了几部分／批次（batches），以免你的机器在计算时内存不足。CIFAR-10 数据集包含 5 个部分，名称分别为 `data_batch_1`、`data_batch_2`，以此类推。每个部分都包含以下某个类别的标签和图片：\n",
    "\n",
    "* 飞机\n",
    "* 汽车\n",
    "* 鸟类\n",
    "* 猫\n",
    "* 鹿\n",
    "* 狗\n",
    "* 青蛙\n",
    "* 马\n",
    "* 船只\n",
    "* 卡车\n",
    "\n",
    "了解数据集也是对数据进行预测的必经步骤。你可以通过更改 `batch_id` 和 `sample_id` 探索下面的代码单元。`batch_id` 是数据集一个部分的 ID（1 到 5）。`sample_id` 是该部分中图片和标签对（label pair）的 ID。\n",
    "\n",
    "问问你自己：“可能的标签有哪些？”、“图片数据的值范围是多少？”、“标签是按顺序排列，还是随机排列的？”。思考类似的问题，有助于你预处理数据，并使预测结果更准确。\n"
   ]
  },
  {
   "cell_type": "code",
   "execution_count": 2,
   "metadata": {
    "collapsed": false
   },
   "outputs": [
    {
     "name": "stdout",
     "output_type": "stream",
     "text": [
      "\n",
      "Stats of batch 1:\n",
      "Samples: 10000\n",
      "Label Counts: {0: 1005, 1: 974, 2: 1032, 3: 1016, 4: 999, 5: 937, 6: 1030, 7: 1001, 8: 1025, 9: 981}\n",
      "First 20 Labels: [6, 9, 9, 4, 1, 1, 2, 7, 8, 3, 4, 7, 7, 2, 9, 9, 9, 3, 2, 6]\n",
      "\n",
      "Example of Image 5:\n",
      "Image - Min Value: 0 Max Value: 252\n",
      "Image - Shape: (32, 32, 3)\n",
      "Label - Label Id: 1 Name: automobile\n"
     ]
    },
    {
     "data": {
      "image/png": "[encoded data removed]",
      "text/plain": [
       "<matplotlib.figure.Figure at 0x7f80b62697b8>"
      ]
     },
     "metadata": {
      "image/png": {
       "height": 250,
       "width": 253
      }
     },
     "output_type": "display_data"
    }
   ],
   "source": [
    "%matplotlib inline\n",
    "%config InlineBackend.figure_format = 'retina'\n",
    "\n",
    "import helper\n",
    "import numpy as np\n",
    "\n",
    "# Explore the dataset\n",
    "batch_id = 1\n",
    "sample_id = 5\n",
    "helper.display_stats(cifar10_dataset_folder_path, batch_id, sample_id)"
   ]
  },
  {
   "cell_type": "markdown",
   "metadata": {},
   "source": [
    "## 实现预处理函数\n",
    "\n",
    "### 标准化\n",
    "\n",
    "在下面的单元中，实现 `normalize` 函数，传入图片数据 `x`，并返回标准化 Numpy 数组。值应该在 0 到 1 的范围内（含 0 和 1）。返回对象应该和 `x` 的形状一样。\n"
   ]
  },
  {
   "cell_type": "code",
   "execution_count": 3,
   "metadata": {
    "collapsed": false
   },
   "outputs": [
    {
     "name": "stdout",
     "output_type": "stream",
     "text": [
      "Tests Passed\n"
     ]
    }
   ],
   "source": [
    "def normalize(x):\n",
    "    \"\"\"\n",
    "    Normalize a list of sample image data in the range of 0 to 1\n",
    "    : x: List of image data.  The image shape is (32, 32, 3)\n",
    "    : return: Numpy array of normalize data\n",
    "    \"\"\"\n",
    "    # TODO: Implement Function\n",
    "    X_normalized = (x.astype(float))/255.\n",
    "    return X_normalized\n",
    "\n",
    "\n",
    "\"\"\"\n",
    "DON'T MODIFY ANYTHING IN THIS CELL THAT IS BELOW THIS LINE\n",
    "\"\"\"\n",
    "tests.test_normalize(normalize)"
   ]
  },
  {
   "cell_type": "markdown",
   "metadata": {},
   "source": [
    "### One-hot 编码\n",
    "\n",
    "和之前的代码单元一样，你将为预处理实现一个函数。这次，你将实现 `one_hot_encode` 函数。输入，也就是 `x`，是一个标签列表。实现该函数，以返回为 one_hot 编码的 Numpy 数组的标签列表。标签的可能值为 0 到 9。每次调用 `one_hot_encode` 时，对于每个值，one_hot 编码函数应该返回相同的编码。确保将编码映射保存到该函数外面。\n",
    "\n",
    "提示：不要重复发明轮子。\n"
   ]
  },
  {
   "cell_type": "code",
   "execution_count": 4,
   "metadata": {
    "collapsed": false
   },
   "outputs": [
    {
     "name": "stdout",
     "output_type": "stream",
     "text": [
      "Tests Passed\n"
     ]
    }
   ],
   "source": [
    "from sklearn.preprocessing import LabelBinarizer\n",
    "\n",
    "def one_hot_encode(x):\n",
    "    \"\"\"\n",
    "    One hot encode a list of sample labels. Return a one-hot encoded vector for each label.\n",
    "    : x: List of sample Labels\n",
    "    : return: Numpy array of one-hot encoded labels\n",
    "    \"\"\"\n",
    "    # TODO: Implement Function\n",
    "    encoder = LabelBinarizer().fit(range(10))\n",
    "    return encoder.transform(x)\n",
    "\n",
    "\"\"\"\n",
    "DON'T MODIFY ANYTHING IN THIS CELL THAT IS BELOW THIS LINE\n",
    "\"\"\"\n",
    "tests.test_one_hot_encode(one_hot_encode)"
   ]
  },
  {
   "cell_type": "markdown",
   "metadata": {},
   "source": [
    "### 随机化数据\n",
    "\n",
    "之前探索数据时，你已经了解到，样本的顺序是随机的。再随机化一次也不会有什么关系，但是对于这个数据集没有必要。\n"
   ]
  },
  {
   "cell_type": "markdown",
   "metadata": {},
   "source": [
    "## 预处理所有数据并保存\n",
    "\n",
    "运行下方的代码单元，将预处理所有 CIFAR-10 数据，并保存到文件中。下面的代码还使用了 10% 的训练数据，用来验证。\n"
   ]
  },
  {
   "cell_type": "code",
   "execution_count": 5,
   "metadata": {
    "collapsed": true
   },
   "outputs": [],
   "source": [
    "\"\"\"\n",
    "DON'T MODIFY ANYTHING IN THIS CELL\n",
    "\"\"\"\n",
    "# Preprocess Training, Validation, and Testing Data\n",
    "helper.preprocess_and_save_data(cifar10_dataset_folder_path, normalize, one_hot_encode)"
   ]
  },
  {
   "cell_type": "markdown",
   "metadata": {},
   "source": [
    "# 检查点\n",
    "\n",
    "这是你的第一个检查点。如果你什么时候决定再回到该记事本，或需要重新启动该记事本，你可以从这里开始。预处理的数据已保存到本地。\n"
   ]
  },
  {
   "cell_type": "code",
   "execution_count": 6,
   "metadata": {
    "collapsed": true
   },
   "outputs": [],
   "source": [
    "\"\"\"\n",
    "DON'T MODIFY ANYTHING IN THIS CELL\n",
    "\"\"\"\n",
    "import pickle\n",
    "import problem_unittests as tests\n",
    "import helper\n",
    "\n",
    "# Load the Preprocessed Validation data\n",
    "valid_features, valid_labels = pickle.load(open('preprocess_validation.p', mode='rb'))"
   ]
  },
  {
   "cell_type": "markdown",
   "metadata": {},
   "source": [
    "## 构建网络\n",
    "\n",
    "对于该神经网络，你需要将每层都构建为一个函数。你看到的大部分代码都位于函数外面。要更全面地测试你的代码，我们需要你将每层放入一个函数中。这样使我们能够提供更好的反馈，并使用我们的统一测试检测简单的错误，然后再提交项目。\n",
    "\n",
    ">**注意**：如果你觉得每周很难抽出足够的时间学习这门课程，我们为此项目提供了一个小捷径。对于接下来的几个问题，你可以使用 [TensorFlow Layers](https://www.tensorflow.org/api_docs/python/tf/layers) 或 [TensorFlow Layers (contrib)](https://www.tensorflow.org/api_guides/python/contrib.layers) 程序包中的类来构建每个层级，但是“卷积和最大池化层级”部分的层级除外。TF Layers 和 Keras 及 TFLearn 层级类似，因此很容易学会。\n",
    "\n",
    ">但是，如果你想充分利用这门课程，请尝试自己解决所有问题，不使用 TF Layers 程序包中的任何类。你依然可以使用其他程序包中的类，这些类和你在 TF Layers 中的类名称是一样的！例如，你可以使用 TF Neural Network 版本的 `conv2d` 类 [tf.nn.conv2d](https://www.tensorflow.org/api_docs/python/tf/nn/conv2d)，而不是 TF Layers 版本的 `conv2d` 类 [tf.layers.conv2d](https://www.tensorflow.org/api_docs/python/tf/layers/conv2d)。\n",
    "\n",
    "我们开始吧！\n",
    "\n",
    "\n",
    "### 输入\n",
    "\n",
    "神经网络需要读取图片数据、one-hot 编码标签和丢弃保留概率（dropout keep probability）。请实现以下函数：\n",
    "\n",
    "* 实现 `neural_net_image_input`\n",
    " * 返回 [TF Placeholder](https://www.tensorflow.org/api_docs/python/tf/placeholder)\n",
    " * 使用 `image_shape` 设置形状，部分大小设为 `None`\n",
    " * 使用 [TF Placeholder](https://www.tensorflow.org/api_docs/python/tf/placeholder) 中的 TensorFlow `name` 参数对 TensorFlow 占位符 \"x\" 命名\n",
    "* 实现 `neural_net_label_input`\n",
    " * 返回 [TF Placeholder](https://www.tensorflow.org/api_docs/python/tf/placeholder)\n",
    " * 使用 `n_classes` 设置形状，部分大小设为 `None`\n",
    " * 使用 [TF Placeholder](https://www.tensorflow.org/api_docs/python/tf/placeholder) 中的 TensorFlow `name` 参数对 TensorFlow 占位符 \"y\" 命名\n",
    "* 实现 `neural_net_keep_prob_input`\n",
    " * 返回 [TF Placeholder](https://www.tensorflow.org/api_docs/python/tf/placeholder)，用于丢弃保留概率\n",
    " * 使用 [TF Placeholder](https://www.tensorflow.org/api_docs/python/tf/placeholder) 中的 TensorFlow `name` 参数对 TensorFlow 占位符 \"keep_prob\" 命名\n",
    "\n",
    "这些名称将在项目结束时，用于加载保存的模型。\n",
    "\n",
    "注意：TensorFlow 中的 `None` 表示形状可以是动态大小。"
   ]
  },
  {
   "cell_type": "code",
   "execution_count": 7,
   "metadata": {
    "collapsed": false
   },
   "outputs": [
    {
     "name": "stdout",
     "output_type": "stream",
     "text": [
      "Image Input Tests Passed.\n",
      "Label Input Tests Passed.\n",
      "Keep Prob Tests Passed.\n"
     ]
    }
   ],
   "source": [
    "import tensorflow as tf\n",
    "\n",
    "def neural_net_image_input(image_shape):\n",
    "    \"\"\"\n",
    "    Return a Tensor for a batch of image input\n",
    "    : image_shape: Shape of the images\n",
    "    : return: Tensor for image input.\n",
    "    \"\"\"\n",
    "    # TODO: Implement Function\n",
    "    return tf.placeholder(tf.float32, (None, *image_shape), \"x\")\n",
    "\n",
    "def neural_net_label_input(n_classes):\n",
    "    \"\"\"\n",
    "    Return a Tensor for a batch of label input\n",
    "    : n_classes: Number of classes\n",
    "    : return: Tensor for label input.\n",
    "    \"\"\"\n",
    "    # TODO: Implement Function\n",
    "    return tf.placeholder(tf.int32, (None, n_classes), \"y\")\n",
    "\n",
    "def neural_net_keep_prob_input():\n",
    "    \"\"\"\n",
    "    Return a Tensor for keep probability\n",
    "    : return: Tensor for keep probability.\n",
    "    \"\"\"\n",
    "    # TODO: Implement Function\n",
    "    return tf.placeholder(tf.float32, None, \"keep_prob\")\n",
    "\n",
    "\n",
    "\"\"\"\n",
    "DON'T MODIFY ANYTHING IN THIS CELL THAT IS BELOW THIS LINE\n",
    "\"\"\"\n",
    "tf.reset_default_graph()\n",
    "tests.test_nn_image_inputs(neural_net_image_input)\n",
    "tests.test_nn_label_inputs(neural_net_label_input)\n",
    "tests.test_nn_keep_prob_inputs(neural_net_keep_prob_input)"
   ]
  },
  {
   "cell_type": "markdown",
   "metadata": {},
   "source": [
    "### 卷积和最大池化层\n",
    "\n",
    "卷积层级适合处理图片。对于此代码单元，你应该实现函数 `conv2d_maxpool` 以便应用卷积然后进行最大池化：\n",
    "\n",
    "* 使用 `conv_ksize`、`conv_num_outputs` 和 `x_tensor` 的形状创建权重（weight）和偏置（bias）。\n",
    "* 使用权重和 `conv_strides` 对 `x_tensor` 应用卷积。\n",
    " * 建议使用我们建议的间距（padding），当然也可以使用任何其他间距。\n",
    "* 添加偏置\n",
    "* 向卷积中添加非线性激活（nonlinear activation）\n",
    "* 使用 `pool_ksize` 和 `pool_strides` 应用最大池化\n",
    " * 建议使用我们建议的间距（padding），当然也可以使用任何其他间距。\n",
    "\n",
    "**注意**：对于**此层**，**请勿使用** [TensorFlow Layers](https://www.tensorflow.org/api_docs/python/tf/layers) 或 [TensorFlow Layers (contrib)](https://www.tensorflow.org/api_guides/python/contrib.layers)，但是仍然可以使用 TensorFlow 的 [Neural Network](https://www.tensorflow.org/api_docs/python/tf/nn) 包。对于所有**其他层**，你依然可以使用快捷方法。\n"
   ]
  },
  {
   "cell_type": "code",
   "execution_count": 8,
   "metadata": {
    "collapsed": false
   },
   "outputs": [
    {
     "name": "stdout",
     "output_type": "stream",
     "text": [
      "Tests Passed\n"
     ]
    }
   ],
   "source": [
    "def conv2d_maxpool(x_tensor, conv_num_outputs, conv_ksize, conv_strides, pool_ksize, pool_strides):\n",
    "    \"\"\"\n",
    "    Apply convolution then max pooling to x_tensor\n",
    "    :param x_tensor: TensorFlow Tensor\n",
    "    :param conv_num_outputs: Number of outputs for the convolutional layer\n",
    "    :param conv_ksize: kernal size 2-D Tuple for the convolutional layer\n",
    "    :param conv_strides: Stride 2-D Tuple for convolution\n",
    "    :param pool_ksize: kernal size 2-D Tuple for pool\n",
    "    :param pool_strides: Stride 2-D Tuple for pool\n",
    "    : return: A tensor that represents convolution and max pooling of x_tensor\n",
    "    \"\"\" \n",
    "    # TODO: Implement Function\n",
    "    conv_num_inputs = x_tensor.get_shape().as_list()[-1]\n",
    "    shape = (*conv_ksize, conv_num_inputs, conv_num_outputs)\n",
    "    conv_W = tf.Variable(tf.truncated_normal(shape=shape, mean=0.0, stddev=0.1))\n",
    "    conv_b = tf.Variable(tf.zeros(conv_num_outputs))\n",
    "    layer = tf.nn.conv2d(x_tensor, conv_W, strides=[1, *conv_strides, 1], padding='SAME')\n",
    "    layer = tf.nn.bias_add(layer, conv_b)\n",
    "    layer = tf.nn.relu(layer)\n",
    "    layer = tf.nn.max_pool(layer, ksize=[1, *pool_ksize, 1], \n",
    "                              strides=[1, *pool_strides, 1], padding='SAME')\n",
    "    return layer \n",
    "\n",
    "\n",
    "\"\"\"\n",
    "DON'T MODIFY ANYTHING IN THIS CELL THAT IS BELOW THIS LINE\n",
    "\"\"\"\n",
    "tests.test_con_pool(conv2d_maxpool)"
   ]
  },
  {
   "cell_type": "markdown",
   "metadata": {},
   "source": [
    "### 扁平化层\n",
    "\n",
    "实现 `flatten` 函数，将 `x_tensor` 的维度从四维张量（4-D tensor）变成二维张量。输出应该是形状（*部分大小（Batch Size）*，*扁平化图片大小（Flattened Image Size）*）。快捷方法：对于此层，你可以使用 [TensorFlow Layers](https://www.tensorflow.org/api_docs/python/tf/layers) 或 [TensorFlow Layers (contrib)](https://www.tensorflow.org/api_guides/python/contrib.layers) 包中的类。如果你想要更大挑战，可以仅使用其他 TensorFlow 程序包。\n"
   ]
  },
  {
   "cell_type": "code",
   "execution_count": 9,
   "metadata": {
    "collapsed": false
   },
   "outputs": [
    {
     "name": "stdout",
     "output_type": "stream",
     "text": [
      "Tests Passed\n"
     ]
    }
   ],
   "source": [
    "def flatten(x_tensor):\n",
    "    \"\"\"\n",
    "    Flatten x_tensor to (Batch Size, Flattened Image Size)\n",
    "    : x_tensor: A tensor of size (Batch Size, ...), where ... are the image dimensions.\n",
    "    : return: A tensor of size (Batch Size, Flattened Image Size).\n",
    "    \"\"\"\n",
    "    # TODO: Implement Function\n",
    "    shape = x_tensor.get_shape().as_list()\n",
    "    layer = tf.reshape(x_tensor, [-1, np.prod(shape[1:])])\n",
    "    return layer\n",
    "\n",
    "\n",
    "\"\"\"\n",
    "DON'T MODIFY ANYTHING IN THIS CELL THAT IS BELOW THIS LINE\n",
    "\"\"\"\n",
    "tests.test_flatten(flatten)"
   ]
  },
  {
   "cell_type": "markdown",
   "metadata": {},
   "source": [
    "### 完全连接的层\n",
    "\n",
    "实现 `fully_conn` 函数，以向 `x_tensor` 应用完全连接的层级，形状为（*部分大小（Batch Size）*，*num_outputs*）。快捷方法：对于此层，你可以使用 [TensorFlow Layers](https://www.tensorflow.org/api_docs/python/tf/layers) 或 [TensorFlow Layers (contrib)](https://www.tensorflow.org/api_guides/python/contrib.layers) 包中的类。如果你想要更大挑战，可以仅使用其他 TensorFlow 程序包。"
   ]
  },
  {
   "cell_type": "code",
   "execution_count": 10,
   "metadata": {
    "collapsed": false
   },
   "outputs": [
    {
     "name": "stdout",
     "output_type": "stream",
     "text": [
      "Tests Passed\n"
     ]
    }
   ],
   "source": [
    "def fully_conn(x_tensor, num_outputs):\n",
    "    \"\"\"\n",
    "    Apply a fully connected layer to x_tensor using weight and bias\n",
    "    : x_tensor: A 2-D tensor where the first dimension is batch size.\n",
    "    : num_outputs: The number of output that the new tensor should be.\n",
    "    : return: A 2-D tensor where the second dimension is num_outputs.\n",
    "    \"\"\"\n",
    "    # TODO: Implement Function\n",
    "    num_inputs = x_tensor.get_shape().as_list()[-1]\n",
    "    fc_W = tf.Variable(tf.truncated_normal(shape=(num_inputs, num_outputs), mean=0.0, stddev=0.1))\n",
    "    fc_b = tf.Variable(tf.zeros(num_outputs))\n",
    "    layer = tf.matmul(x_tensor, fc_W)\n",
    "    layer = tf.add(layer, fc_b)\n",
    "    layer = tf.nn.relu(layer)\n",
    "    return layer\n",
    "\n",
    "\n",
    "\"\"\"\n",
    "DON'T MODIFY ANYTHING IN THIS CELL THAT IS BELOW THIS LINE\n",
    "\"\"\"\n",
    "tests.test_fully_conn(fully_conn)"
   ]
  },
  {
   "cell_type": "markdown",
   "metadata": {},
   "source": [
    "### 输出层\n",
    "\n",
    "实现 `output` 函数，向 x_tensor 应用完全连接的层级，形状为（*部分大小（Batch Size）*，*num_outputs*）。快捷方法：对于此层，你可以使用 [TensorFlow Layers](https://www.tensorflow.org/api_docs/python/tf/layers) 或 [TensorFlow Layers (contrib)](https://www.tensorflow.org/api_guides/python/contrib.layers) 包中的类。如果你想要更大挑战，可以仅使用其他 TensorFlow 程序包。\n",
    "\n",
    "**注意**：该层级不应应用 Activation、softmax 或交叉熵（cross entropy）。"
   ]
  },
  {
   "cell_type": "code",
   "execution_count": 11,
   "metadata": {
    "collapsed": false
   },
   "outputs": [
    {
     "name": "stdout",
     "output_type": "stream",
     "text": [
      "Tests Passed\n"
     ]
    }
   ],
   "source": [
    "def output(x_tensor, num_outputs):\n",
    "    \"\"\"\n",
    "    Apply a output layer to x_tensor using weight and bias\n",
    "    : x_tensor: A 2-D tensor where the first dimension is batch size.\n",
    "    : num_outputs: The number of output that the new tensor should be.\n",
    "    : return: A 2-D tensor where the second dimension is num_outputs.\n",
    "    \"\"\"\n",
    "    # TODO: Implement Function\n",
    "    num_inputs = x_tensor.get_shape().as_list()[-1]\n",
    "    fc_W = tf.Variable(tf.truncated_normal(shape=(num_inputs, num_outputs), mean=0.0, stddev=0.1))\n",
    "    fc_b = tf.Variable(tf.zeros(num_outputs))\n",
    "    layer = tf.matmul(x_tensor, fc_W)\n",
    "    layer = tf.add(layer, fc_b)\n",
    "    return layer\n",
    "\n",
    "\"\"\"\n",
    "DON'T MODIFY ANYTHING IN THIS CELL THAT IS BELOW THIS LINE\n",
    "\"\"\"\n",
    "tests.test_output(output)"
   ]
  },
  {
   "cell_type": "markdown",
   "metadata": {},
   "source": [
    "### 创建卷积模型\n",
    "\n",
    "实现函数 `conv_net`， 创建卷积神经网络模型。该函数传入一批图片 `x`，并输出对数（logits）。使用你在上方创建的层创建此模型：\n",
    "\n",
    "* 应用 1、2 或 3 个卷积和最大池化层（Convolution and Max Pool layers）\n",
    "* 应用一个扁平层（Flatten Layer）\n",
    "* 应用 1、2 或 3 个完全连接层（Fully Connected Layers）\n",
    "* 应用一个输出层（Output Layer）\n",
    "* 返回输出\n",
    "* 使用 `keep_prob` 向模型中的一个或多个层应用 [TensorFlow 的 Dropout](https://www.tensorflow.org/api_docs/python/tf/nn/dropout)"
   ]
  },
  {
   "cell_type": "code",
   "execution_count": 12,
   "metadata": {
    "collapsed": false
   },
   "outputs": [
    {
     "name": "stdout",
     "output_type": "stream",
     "text": [
      "(?, 4096)\n",
      "(?, 4096)\n",
      "Neural Network Built!\n"
     ]
    }
   ],
   "source": [
    "def conv_net(x, keep_prob):\n",
    "    \"\"\"\n",
    "    Create a convolutional neural network model\n",
    "    : x: Placeholder tensor that holds image data.\n",
    "    : keep_prob: Placeholder tensor that hold dropout keep probability.\n",
    "    : return: Tensor that represents logits\n",
    "    \"\"\"\n",
    "    # TODO: Apply 1, 2, or 3 Convolution and Max Pool layers\n",
    "    #    Play around with different number of outputs, kernel size and stride\n",
    "    # Function Definition from Above:\n",
    "    #    conv2d_maxpool(x_tensor, conv_num_outputs, conv_ksize, conv_strides, pool_ksize, pool_strides)\n",
    "    layer = x\n",
    "    layer = conv2d_maxpool(layer, 64, (5,5), (1,1), (3,3), (2,2))\n",
    "    layer = conv2d_maxpool(layer, 64, (5,5), (1,1), (3,3), (2,2))\n",
    "    \n",
    "    # TODO: Apply a Flatten Layer\n",
    "    # Function Definition from Above:\n",
    "    layer = flatten(layer)\n",
    "    print(layer.get_shape())\n",
    "    \n",
    "    # TODO: Apply 1, 2, or 3 Fully Connected Layers\n",
    "    #    Play around with different number of outputs\n",
    "    # Function Definition from Above:\n",
    "    layer = fully_conn(layer, 384)\n",
    "    layer = tf.nn.dropout(layer, keep_prob)\n",
    "    layer = fully_conn(layer, 192)\n",
    "    layer = tf.nn.dropout(layer, keep_prob)\n",
    "    # TODO: Apply an Output Layer\n",
    "    #    Set this to the number of classes\n",
    "    # Function Definition from Above:\n",
    "    #   output(x_tensor, num_outputs)\n",
    "    layer = output(layer, 10)\n",
    "    \n",
    "    # TODO: return output\n",
    "    return layer\n",
    "\n",
    "\n",
    "\"\"\"\n",
    "DON'T MODIFY ANYTHING IN THIS CELL THAT IS BELOW THIS LINE\n",
    "\"\"\"\n",
    "\n",
    "##############################\n",
    "## Build the Neural Network ##\n",
    "##############################\n",
    "\n",
    "# Remove previous weights, bias, inputs, etc..\n",
    "tf.reset_default_graph()\n",
    "\n",
    "# Inputs\n",
    "x = neural_net_image_input((32, 32, 3))\n",
    "y = neural_net_label_input(10)\n",
    "keep_prob = neural_net_keep_prob_input()\n",
    "\n",
    "# Model\n",
    "logits = conv_net(x, keep_prob)\n",
    "\n",
    "# Name logits Tensor, so that is can be loaded from disk after training\n",
    "logits = tf.identity(logits, name='logits')\n",
    "\n",
    "# Loss and Optimizer\n",
    "cost = tf.reduce_mean(tf.nn.softmax_cross_entropy_with_logits(logits=logits, labels=y))\n",
    "optimizer = tf.train.AdamOptimizer().minimize(cost)\n",
    "\n",
    "# Accuracy\n",
    "correct_pred = tf.equal(tf.argmax(logits, 1), tf.argmax(y, 1))\n",
    "accuracy = tf.reduce_mean(tf.cast(correct_pred, tf.float32), name='accuracy')\n",
    "\n",
    "tests.test_conv_net(conv_net)"
   ]
  },
  {
   "cell_type": "markdown",
   "metadata": {},
   "source": [
    "## 训练神经网络\n",
    "\n",
    "### 单次优化\n",
    "\n",
    "实现函数 `train_neural_network` 以进行单次优化（single optimization）。该优化应该使用 `optimizer` 优化 `session`，其中 `feed_dict` 具有以下参数：\n",
    "\n",
    "* `x` 表示图片输入\n",
    "* `y` 表示标签\n",
    "* `keep_prob` 表示丢弃的保留率\n",
    "\n",
    "每个部分都会调用该函数，所以 `tf.global_variables_initializer()` 已经被调用。\n",
    "\n",
    "注意：不需要返回任何内容。该函数只是用来优化神经网络。\n"
   ]
  },
  {
   "cell_type": "code",
   "execution_count": 13,
   "metadata": {
    "collapsed": false
   },
   "outputs": [
    {
     "name": "stdout",
     "output_type": "stream",
     "text": [
      "Tests Passed\n"
     ]
    }
   ],
   "source": [
    "def train_neural_network(session, optimizer, keep_probability, feature_batch, label_batch):\n",
    "    \"\"\"\n",
    "    Optimize the session on a batch of images and labels\n",
    "    : session: Current TensorFlow session\n",
    "    : optimizer: TensorFlow optimizer function\n",
    "    : keep_probability: keep probability\n",
    "    : feature_batch: Batch of Numpy image data\n",
    "    : label_batch: Batch of Numpy label data\n",
    "    \"\"\"\n",
    "    # TODO: Implement Function\n",
    "    session.run(optimizer, feed_dict={x: feature_batch, y: label_batch, keep_prob: keep_probability})\n",
    "\n",
    "\n",
    "\"\"\"\n",
    "DON'T MODIFY ANYTHING IN THIS CELL THAT IS BELOW THIS LINE\n",
    "\"\"\"\n",
    "tests.test_train_nn(train_neural_network)"
   ]
  },
  {
   "cell_type": "markdown",
   "metadata": {},
   "source": [
    "### 显示数据\n",
    "\n",
    "实现函数 `print_stats` 以输出损失和验证准确率。使用全局变量 `valid_features` 和 `valid_labels` 计算验证准确率。使用保留率 `1.0` 计算损失和验证准确率（loss and validation accuracy）。\n"
   ]
  },
  {
   "cell_type": "code",
   "execution_count": 14,
   "metadata": {
    "collapsed": true
   },
   "outputs": [],
   "source": [
    "def print_stats(session, feature_batch, label_batch, cost, accuracy):\n",
    "    \"\"\"\n",
    "    Print information about loss and validation accuracy\n",
    "    : session: Current TensorFlow session\n",
    "    : feature_batch: Batch of Numpy image data\n",
    "    : label_batch: Batch of Numpy label data\n",
    "    : cost: TensorFlow cost function\n",
    "    : accuracy: TensorFlow accuracy function\n",
    "    \"\"\"\n",
    "    # TODO: Implement Function\n",
    "    cost_value = session.run(cost, feed_dict={x: valid_features, y: valid_labels, keep_prob: 1.0})\n",
    "    accuracy_value = session.run(accuracy, feed_dict={x: valid_features, y: valid_labels, keep_prob: 1.0})\n",
    "    print('valid accuracy:{:.6f}\\tlost:{:.6f}'.format(accuracy_value, cost_value))"
   ]
  },
  {
   "cell_type": "markdown",
   "metadata": {},
   "source": [
    "### 超参数\n",
    "\n",
    "调试以下超参数：\n",
    "* 设置 `epochs` 表示神经网络停止学习或开始过拟合的迭代次数\n",
    "* 设置 `batch_size`，表示机器内存允许的部分最大体积。大部分人设为以下常见内存大小：\n",
    "\n",
    " * 64\n",
    " * 128\n",
    " * 256\n",
    " * ...\n",
    "* 设置 `keep_probability` 表示使用丢弃时保留节点的概率"
   ]
  },
  {
   "cell_type": "code",
   "execution_count": 15,
   "metadata": {
    "collapsed": true
   },
   "outputs": [],
   "source": [
    "# TODO: Tune Parameters\n",
    "epochs = 40\n",
    "batch_size = 128\n",
    "keep_probability = 0.5"
   ]
  },
  {
   "cell_type": "markdown",
   "metadata": {},
   "source": [
    "### 在单个 CIFAR-10 部分上训练\n",
    "\n",
    "我们先用单个部分，而不是用所有的 CIFAR-10 批次训练神经网络。这样可以节省时间，并对模型进行迭代，以提高准确率。最终验证准确率达到 50% 或以上之后，在下一部分对所有数据运行模型。\n"
   ]
  },
  {
   "cell_type": "code",
   "execution_count": 16,
   "metadata": {
    "collapsed": false
   },
   "outputs": [
    {
     "name": "stdout",
     "output_type": "stream",
     "text": [
      "Checking the Training on a Single Batch...\n",
      "Epoch  1, CIFAR-10 Batch 1:  valid accuracy:0.321800\tlost:1.929068\n",
      "Epoch  2, CIFAR-10 Batch 1:  valid accuracy:0.386800\tlost:1.725791\n",
      "Epoch  3, CIFAR-10 Batch 1:  valid accuracy:0.432600\tlost:1.560403\n",
      "Epoch  4, CIFAR-10 Batch 1:  valid accuracy:0.464800\tlost:1.497591\n",
      "Epoch  5, CIFAR-10 Batch 1:  valid accuracy:0.484000\tlost:1.443092\n",
      "Epoch  6, CIFAR-10 Batch 1:  valid accuracy:0.506000\tlost:1.378764\n",
      "Epoch  7, CIFAR-10 Batch 1:  valid accuracy:0.526200\tlost:1.347881\n",
      "Epoch  8, CIFAR-10 Batch 1:  valid accuracy:0.543600\tlost:1.290688\n",
      "Epoch  9, CIFAR-10 Batch 1:  valid accuracy:0.542200\tlost:1.296196\n",
      "Epoch 10, CIFAR-10 Batch 1:  valid accuracy:0.552600\tlost:1.278954\n",
      "Epoch 11, CIFAR-10 Batch 1:  valid accuracy:0.551800\tlost:1.268247\n",
      "Epoch 12, CIFAR-10 Batch 1:  valid accuracy:0.563800\tlost:1.255246\n",
      "Epoch 13, CIFAR-10 Batch 1:  valid accuracy:0.567000\tlost:1.240163\n",
      "Epoch 14, CIFAR-10 Batch 1:  valid accuracy:0.569000\tlost:1.254030\n",
      "Epoch 15, CIFAR-10 Batch 1:  valid accuracy:0.575000\tlost:1.244155\n",
      "Epoch 16, CIFAR-10 Batch 1:  valid accuracy:0.586400\tlost:1.234517\n",
      "Epoch 17, CIFAR-10 Batch 1:  valid accuracy:0.591800\tlost:1.223714\n",
      "Epoch 18, CIFAR-10 Batch 1:  valid accuracy:0.586600\tlost:1.243740\n",
      "Epoch 19, CIFAR-10 Batch 1:  valid accuracy:0.603000\tlost:1.200667\n",
      "Epoch 20, CIFAR-10 Batch 1:  valid accuracy:0.591200\tlost:1.270537\n",
      "Epoch 21, CIFAR-10 Batch 1:  valid accuracy:0.588800\tlost:1.329285\n",
      "Epoch 22, CIFAR-10 Batch 1:  valid accuracy:0.592400\tlost:1.349868\n",
      "Epoch 23, CIFAR-10 Batch 1:  valid accuracy:0.616600\tlost:1.315875\n",
      "Epoch 24, CIFAR-10 Batch 1:  valid accuracy:0.602600\tlost:1.342362\n",
      "Epoch 25, CIFAR-10 Batch 1:  valid accuracy:0.611400\tlost:1.384596\n",
      "Epoch 26, CIFAR-10 Batch 1:  valid accuracy:0.622000\tlost:1.364309\n",
      "Epoch 27, CIFAR-10 Batch 1:  valid accuracy:0.607400\tlost:1.495862\n",
      "Epoch 28, CIFAR-10 Batch 1:  valid accuracy:0.617000\tlost:1.420625\n",
      "Epoch 29, CIFAR-10 Batch 1:  valid accuracy:0.604400\tlost:1.488343\n",
      "Epoch 30, CIFAR-10 Batch 1:  valid accuracy:0.614800\tlost:1.472123\n",
      "Epoch 31, CIFAR-10 Batch 1:  valid accuracy:0.607200\tlost:1.563909\n",
      "Epoch 32, CIFAR-10 Batch 1:  valid accuracy:0.606400\tlost:1.533239\n",
      "Epoch 33, CIFAR-10 Batch 1:  valid accuracy:0.610600\tlost:1.548458\n",
      "Epoch 34, CIFAR-10 Batch 1:  valid accuracy:0.602200\tlost:1.654071\n",
      "Epoch 35, CIFAR-10 Batch 1:  valid accuracy:0.611000\tlost:1.573181\n",
      "Epoch 36, CIFAR-10 Batch 1:  valid accuracy:0.611000\tlost:1.645073\n",
      "Epoch 37, CIFAR-10 Batch 1:  valid accuracy:0.605000\tlost:1.760965\n",
      "Epoch 38, CIFAR-10 Batch 1:  valid accuracy:0.600600\tlost:1.706654\n",
      "Epoch 39, CIFAR-10 Batch 1:  valid accuracy:0.603800\tlost:1.834035\n",
      "Epoch 40, CIFAR-10 Batch 1:  valid accuracy:0.612200\tlost:1.862944\n"
     ]
    }
   ],
   "source": [
    "\"\"\"\n",
    "DON'T MODIFY ANYTHING IN THIS CELL\n",
    "\"\"\"\n",
    "print('Checking the Training on a Single Batch...')\n",
    "with tf.Session() as sess:\n",
    "    # Initializing the variables\n",
    "    sess.run(tf.global_variables_initializer())\n",
    "    \n",
    "    # Training cycle\n",
    "    for epoch in range(epochs):\n",
    "        batch_i = 1\n",
    "        for batch_features, batch_labels in helper.load_preprocess_training_batch(batch_i, batch_size):\n",
    "            train_neural_network(sess, optimizer, keep_probability, batch_features, batch_labels)\n",
    "        print('Epoch {:>2}, CIFAR-10 Batch {}:  '.format(epoch + 1, batch_i), end='')\n",
    "        print_stats(sess, batch_features, batch_labels, cost, accuracy)"
   ]
  },
  {
   "cell_type": "markdown",
   "metadata": {},
   "source": [
    "### 完全训练模型\n",
    "\n",
    "现在，单个 CIFAR-10 部分的准确率已经不错了，试试所有五个部分吧。"
   ]
  },
  {
   "cell_type": "code",
   "execution_count": 17,
   "metadata": {
    "collapsed": false
   },
   "outputs": [
    {
     "name": "stdout",
     "output_type": "stream",
     "text": [
      "Training...\n",
      "Epoch  1, CIFAR-10 Batch 1:  valid accuracy:0.310200\tlost:2.024959\n",
      "Epoch  1, CIFAR-10 Batch 2:  valid accuracy:0.359200\tlost:1.777601\n",
      "Epoch  1, CIFAR-10 Batch 3:  valid accuracy:0.405000\tlost:1.619306\n",
      "Epoch  1, CIFAR-10 Batch 4:  valid accuracy:0.456400\tlost:1.497908\n",
      "Epoch  1, CIFAR-10 Batch 5:  valid accuracy:0.452000\tlost:1.517686\n",
      "Epoch  2, CIFAR-10 Batch 1:  valid accuracy:0.486800\tlost:1.430236\n",
      "Epoch  2, CIFAR-10 Batch 2:  valid accuracy:0.495200\tlost:1.406927\n",
      "Epoch  2, CIFAR-10 Batch 3:  valid accuracy:0.495800\tlost:1.361011\n",
      "Epoch  2, CIFAR-10 Batch 4:  valid accuracy:0.526800\tlost:1.311451\n",
      "Epoch  2, CIFAR-10 Batch 5:  valid accuracy:0.520000\tlost:1.313055\n",
      "Epoch  3, CIFAR-10 Batch 1:  valid accuracy:0.541800\tlost:1.279055\n",
      "Epoch  3, CIFAR-10 Batch 2:  valid accuracy:0.530400\tlost:1.290696\n",
      "Epoch  3, CIFAR-10 Batch 3:  valid accuracy:0.541000\tlost:1.254446\n",
      "Epoch  3, CIFAR-10 Batch 4:  valid accuracy:0.577000\tlost:1.189010\n",
      "Epoch  3, CIFAR-10 Batch 5:  valid accuracy:0.576000\tlost:1.184653\n",
      "Epoch  4, CIFAR-10 Batch 1:  valid accuracy:0.573600\tlost:1.188311\n",
      "Epoch  4, CIFAR-10 Batch 2:  valid accuracy:0.579000\tlost:1.164413\n",
      "Epoch  4, CIFAR-10 Batch 3:  valid accuracy:0.601600\tlost:1.132023\n",
      "Epoch  4, CIFAR-10 Batch 4:  valid accuracy:0.613400\tlost:1.097095\n",
      "Epoch  4, CIFAR-10 Batch 5:  valid accuracy:0.599400\tlost:1.123043\n",
      "Epoch  5, CIFAR-10 Batch 1:  valid accuracy:0.610600\tlost:1.107146\n",
      "Epoch  5, CIFAR-10 Batch 2:  valid accuracy:0.614600\tlost:1.091556\n",
      "Epoch  5, CIFAR-10 Batch 3:  valid accuracy:0.614200\tlost:1.075086\n",
      "Epoch  5, CIFAR-10 Batch 4:  valid accuracy:0.634400\tlost:1.043398\n",
      "Epoch  5, CIFAR-10 Batch 5:  valid accuracy:0.629400\tlost:1.047936\n",
      "Epoch  6, CIFAR-10 Batch 1:  valid accuracy:0.629600\tlost:1.050592\n",
      "Epoch  6, CIFAR-10 Batch 2:  valid accuracy:0.612200\tlost:1.097193\n",
      "Epoch  6, CIFAR-10 Batch 3:  valid accuracy:0.628800\tlost:1.034569\n",
      "Epoch  6, CIFAR-10 Batch 4:  valid accuracy:0.647000\tlost:1.004573\n",
      "Epoch  6, CIFAR-10 Batch 5:  valid accuracy:0.662600\tlost:0.968364\n",
      "Epoch  7, CIFAR-10 Batch 1:  valid accuracy:0.655600\tlost:0.971766\n",
      "Epoch  7, CIFAR-10 Batch 2:  valid accuracy:0.644000\tlost:1.009326\n",
      "Epoch  7, CIFAR-10 Batch 3:  valid accuracy:0.669000\tlost:0.957729\n",
      "Epoch  7, CIFAR-10 Batch 4:  valid accuracy:0.658600\tlost:0.979656\n",
      "Epoch  7, CIFAR-10 Batch 5:  valid accuracy:0.659200\tlost:0.973169\n",
      "Epoch  8, CIFAR-10 Batch 1:  valid accuracy:0.667200\tlost:0.951427\n",
      "Epoch  8, CIFAR-10 Batch 2:  valid accuracy:0.677600\tlost:0.934330\n",
      "Epoch  8, CIFAR-10 Batch 3:  valid accuracy:0.674200\tlost:0.944974\n",
      "Epoch  8, CIFAR-10 Batch 4:  valid accuracy:0.674600\tlost:0.945968\n",
      "Epoch  8, CIFAR-10 Batch 5:  valid accuracy:0.677400\tlost:0.941711\n",
      "Epoch  9, CIFAR-10 Batch 1:  valid accuracy:0.679400\tlost:0.926049\n",
      "Epoch  9, CIFAR-10 Batch 2:  valid accuracy:0.676600\tlost:0.932004\n",
      "Epoch  9, CIFAR-10 Batch 3:  valid accuracy:0.670800\tlost:0.942066\n",
      "Epoch  9, CIFAR-10 Batch 4:  valid accuracy:0.683200\tlost:0.915858\n",
      "Epoch  9, CIFAR-10 Batch 5:  valid accuracy:0.695600\tlost:0.895819\n",
      "Epoch 10, CIFAR-10 Batch 1:  valid accuracy:0.698000\tlost:0.897119\n",
      "Epoch 10, CIFAR-10 Batch 2:  valid accuracy:0.690000\tlost:0.899355\n",
      "Epoch 10, CIFAR-10 Batch 3:  valid accuracy:0.673400\tlost:0.953092\n",
      "Epoch 10, CIFAR-10 Batch 4:  valid accuracy:0.691800\tlost:0.913849\n",
      "Epoch 10, CIFAR-10 Batch 5:  valid accuracy:0.693400\tlost:0.912048\n",
      "Epoch 11, CIFAR-10 Batch 1:  valid accuracy:0.699400\tlost:0.878830\n",
      "Epoch 11, CIFAR-10 Batch 2:  valid accuracy:0.705400\tlost:0.870341\n",
      "Epoch 11, CIFAR-10 Batch 3:  valid accuracy:0.684000\tlost:0.945646\n",
      "Epoch 11, CIFAR-10 Batch 4:  valid accuracy:0.704800\tlost:0.869530\n",
      "Epoch 11, CIFAR-10 Batch 5:  valid accuracy:0.687200\tlost:0.927970\n",
      "Epoch 12, CIFAR-10 Batch 1:  valid accuracy:0.693400\tlost:0.917415\n",
      "Epoch 12, CIFAR-10 Batch 2:  valid accuracy:0.692200\tlost:0.899923\n",
      "Epoch 12, CIFAR-10 Batch 3:  valid accuracy:0.689800\tlost:0.914751\n",
      "Epoch 12, CIFAR-10 Batch 4:  valid accuracy:0.703000\tlost:0.874235\n",
      "Epoch 12, CIFAR-10 Batch 5:  valid accuracy:0.706800\tlost:0.889042\n",
      "Epoch 13, CIFAR-10 Batch 1:  valid accuracy:0.704000\tlost:0.870847\n",
      "Epoch 13, CIFAR-10 Batch 2:  valid accuracy:0.710400\tlost:0.863961\n",
      "Epoch 13, CIFAR-10 Batch 3:  valid accuracy:0.681600\tlost:0.966154\n",
      "Epoch 13, CIFAR-10 Batch 4:  valid accuracy:0.693000\tlost:0.923201\n",
      "Epoch 13, CIFAR-10 Batch 5:  valid accuracy:0.691400\tlost:0.921872\n",
      "Epoch 14, CIFAR-10 Batch 1:  valid accuracy:0.709600\tlost:0.885036\n",
      "Epoch 14, CIFAR-10 Batch 2:  valid accuracy:0.702400\tlost:0.875460\n",
      "Epoch 14, CIFAR-10 Batch 3:  valid accuracy:0.708800\tlost:0.864497\n",
      "Epoch 14, CIFAR-10 Batch 4:  valid accuracy:0.705400\tlost:0.901479\n",
      "Epoch 14, CIFAR-10 Batch 5:  valid accuracy:0.714400\tlost:0.872669\n",
      "Epoch 15, CIFAR-10 Batch 1:  valid accuracy:0.705600\tlost:0.888590\n",
      "Epoch 15, CIFAR-10 Batch 2:  valid accuracy:0.709200\tlost:0.884605\n",
      "Epoch 15, CIFAR-10 Batch 3:  valid accuracy:0.707800\tlost:0.880113\n",
      "Epoch 15, CIFAR-10 Batch 4:  valid accuracy:0.704000\tlost:0.908552\n",
      "Epoch 15, CIFAR-10 Batch 5:  valid accuracy:0.717400\tlost:0.877763\n",
      "Epoch 16, CIFAR-10 Batch 1:  valid accuracy:0.710800\tlost:0.928007\n",
      "Epoch 16, CIFAR-10 Batch 2:  valid accuracy:0.714800\tlost:0.876564\n",
      "Epoch 16, CIFAR-10 Batch 3:  valid accuracy:0.716600\tlost:0.889426\n",
      "Epoch 16, CIFAR-10 Batch 4:  valid accuracy:0.709800\tlost:0.935081\n",
      "Epoch 16, CIFAR-10 Batch 5:  valid accuracy:0.720400\tlost:0.873998\n",
      "Epoch 17, CIFAR-10 Batch 1:  valid accuracy:0.711200\tlost:0.913819\n",
      "Epoch 17, CIFAR-10 Batch 2:  valid accuracy:0.710000\tlost:0.927956\n",
      "Epoch 17, CIFAR-10 Batch 3:  valid accuracy:0.718000\tlost:0.900255\n",
      "Epoch 17, CIFAR-10 Batch 4:  valid accuracy:0.704400\tlost:0.942186\n",
      "Epoch 17, CIFAR-10 Batch 5:  valid accuracy:0.717000\tlost:0.909427\n",
      "Epoch 18, CIFAR-10 Batch 1:  valid accuracy:0.711000\tlost:0.904862\n",
      "Epoch 18, CIFAR-10 Batch 2:  valid accuracy:0.718400\tlost:0.915409\n",
      "Epoch 18, CIFAR-10 Batch 3:  valid accuracy:0.708200\tlost:0.903180\n",
      "Epoch 18, CIFAR-10 Batch 4:  valid accuracy:0.702000\tlost:0.973292\n",
      "Epoch 18, CIFAR-10 Batch 5:  valid accuracy:0.719800\tlost:0.914874\n",
      "Epoch 19, CIFAR-10 Batch 1:  valid accuracy:0.726600\tlost:0.921759\n",
      "Epoch 19, CIFAR-10 Batch 2:  valid accuracy:0.720200\tlost:0.914187\n",
      "Epoch 19, CIFAR-10 Batch 3:  valid accuracy:0.702600\tlost:0.978093\n",
      "Epoch 19, CIFAR-10 Batch 4:  valid accuracy:0.714200\tlost:0.934133\n",
      "Epoch 19, CIFAR-10 Batch 5:  valid accuracy:0.716000\tlost:0.915878\n",
      "Epoch 20, CIFAR-10 Batch 1:  valid accuracy:0.704600\tlost:0.956621\n",
      "Epoch 20, CIFAR-10 Batch 2:  valid accuracy:0.704000\tlost:0.935415\n",
      "Epoch 20, CIFAR-10 Batch 3:  valid accuracy:0.694600\tlost:0.977821\n",
      "Epoch 20, CIFAR-10 Batch 4:  valid accuracy:0.721600\tlost:0.923817\n",
      "Epoch 20, CIFAR-10 Batch 5:  valid accuracy:0.717400\tlost:0.923558\n",
      "Epoch 21, CIFAR-10 Batch 1:  valid accuracy:0.714400\tlost:0.956805\n",
      "Epoch 21, CIFAR-10 Batch 2:  valid accuracy:0.707400\tlost:0.984108\n",
      "Epoch 21, CIFAR-10 Batch 3:  valid accuracy:0.707000\tlost:0.980796\n",
      "Epoch 21, CIFAR-10 Batch 4:  valid accuracy:0.724400\tlost:0.938935\n",
      "Epoch 21, CIFAR-10 Batch 5:  valid accuracy:0.715600\tlost:0.948630\n",
      "Epoch 22, CIFAR-10 Batch 1:  valid accuracy:0.718600\tlost:0.961891\n",
      "Epoch 22, CIFAR-10 Batch 2:  valid accuracy:0.716000\tlost:0.983758\n",
      "Epoch 22, CIFAR-10 Batch 3:  valid accuracy:0.706000\tlost:1.008938\n",
      "Epoch 22, CIFAR-10 Batch 4:  valid accuracy:0.720600\tlost:0.949962\n",
      "Epoch 22, CIFAR-10 Batch 5:  valid accuracy:0.720800\tlost:0.949185\n",
      "Epoch 23, CIFAR-10 Batch 1:  valid accuracy:0.716200\tlost:0.997120\n",
      "Epoch 23, CIFAR-10 Batch 2:  valid accuracy:0.704800\tlost:1.029193\n",
      "Epoch 23, CIFAR-10 Batch 3:  valid accuracy:0.713600\tlost:1.018119\n",
      "Epoch 23, CIFAR-10 Batch 4:  valid accuracy:0.726600\tlost:0.981823\n",
      "Epoch 23, CIFAR-10 Batch 5:  valid accuracy:0.694200\tlost:1.058584\n",
      "Epoch 24, CIFAR-10 Batch 1:  valid accuracy:0.719400\tlost:0.958821\n",
      "Epoch 24, CIFAR-10 Batch 2:  valid accuracy:0.708200\tlost:1.009321\n",
      "Epoch 24, CIFAR-10 Batch 3:  valid accuracy:0.721400\tlost:0.959161\n",
      "Epoch 24, CIFAR-10 Batch 4:  valid accuracy:0.726800\tlost:0.950891\n",
      "Epoch 24, CIFAR-10 Batch 5:  valid accuracy:0.705000\tlost:1.044927\n",
      "Epoch 25, CIFAR-10 Batch 1:  valid accuracy:0.715400\tlost:1.019436\n",
      "Epoch 25, CIFAR-10 Batch 2:  valid accuracy:0.707600\tlost:1.059909\n",
      "Epoch 25, CIFAR-10 Batch 3:  valid accuracy:0.714000\tlost:1.041106\n",
      "Epoch 25, CIFAR-10 Batch 4:  valid accuracy:0.724200\tlost:0.962797\n",
      "Epoch 25, CIFAR-10 Batch 5:  valid accuracy:0.701400\tlost:1.104993\n",
      "Epoch 26, CIFAR-10 Batch 1:  valid accuracy:0.719400\tlost:0.980284\n",
      "Epoch 26, CIFAR-10 Batch 2:  valid accuracy:0.709000\tlost:1.027438\n",
      "Epoch 26, CIFAR-10 Batch 3:  valid accuracy:0.718200\tlost:1.004600\n",
      "Epoch 26, CIFAR-10 Batch 4:  valid accuracy:0.715800\tlost:1.023398\n",
      "Epoch 26, CIFAR-10 Batch 5:  valid accuracy:0.712800\tlost:1.069139\n",
      "Epoch 27, CIFAR-10 Batch 1:  valid accuracy:0.720800\tlost:1.020633\n",
      "Epoch 27, CIFAR-10 Batch 2:  valid accuracy:0.683600\tlost:1.166828\n",
      "Epoch 27, CIFAR-10 Batch 3:  valid accuracy:0.721600\tlost:1.047318\n",
      "Epoch 27, CIFAR-10 Batch 4:  valid accuracy:0.722200\tlost:1.017366\n",
      "Epoch 27, CIFAR-10 Batch 5:  valid accuracy:0.715600\tlost:1.046612\n",
      "Epoch 28, CIFAR-10 Batch 1:  valid accuracy:0.715400\tlost:1.074958\n",
      "Epoch 28, CIFAR-10 Batch 2:  valid accuracy:0.706600\tlost:1.170712\n",
      "Epoch 28, CIFAR-10 Batch 3:  valid accuracy:0.710600\tlost:1.092401\n",
      "Epoch 28, CIFAR-10 Batch 4:  valid accuracy:0.730000\tlost:1.039960\n",
      "Epoch 28, CIFAR-10 Batch 5:  valid accuracy:0.714800\tlost:1.122057\n",
      "Epoch 29, CIFAR-10 Batch 1:  valid accuracy:0.712000\tlost:1.116855\n",
      "Epoch 29, CIFAR-10 Batch 2:  valid accuracy:0.708000\tlost:1.131713\n",
      "Epoch 29, CIFAR-10 Batch 3:  valid accuracy:0.724600\tlost:1.028612\n",
      "Epoch 29, CIFAR-10 Batch 4:  valid accuracy:0.714400\tlost:1.059773\n",
      "Epoch 29, CIFAR-10 Batch 5:  valid accuracy:0.712800\tlost:1.126771\n",
      "Epoch 30, CIFAR-10 Batch 1:  valid accuracy:0.718200\tlost:1.057496\n",
      "Epoch 30, CIFAR-10 Batch 2:  valid accuracy:0.707800\tlost:1.171531\n",
      "Epoch 30, CIFAR-10 Batch 3:  valid accuracy:0.712800\tlost:1.088962\n",
      "Epoch 30, CIFAR-10 Batch 4:  valid accuracy:0.728800\tlost:1.028476\n",
      "Epoch 30, CIFAR-10 Batch 5:  valid accuracy:0.719000\tlost:1.092178\n",
      "Epoch 31, CIFAR-10 Batch 1:  valid accuracy:0.719000\tlost:1.175926\n",
      "Epoch 31, CIFAR-10 Batch 2:  valid accuracy:0.711200\tlost:1.111704\n",
      "Epoch 31, CIFAR-10 Batch 3:  valid accuracy:0.724400\tlost:1.068470\n",
      "Epoch 31, CIFAR-10 Batch 4:  valid accuracy:0.726200\tlost:1.041339\n",
      "Epoch 31, CIFAR-10 Batch 5:  valid accuracy:0.717400\tlost:1.189241\n",
      "Epoch 32, CIFAR-10 Batch 1:  valid accuracy:0.712600\tlost:1.140340\n",
      "Epoch 32, CIFAR-10 Batch 2:  valid accuracy:0.701200\tlost:1.254347\n",
      "Epoch 32, CIFAR-10 Batch 3:  valid accuracy:0.718200\tlost:1.064875\n",
      "Epoch 32, CIFAR-10 Batch 4:  valid accuracy:0.712800\tlost:1.134950\n",
      "Epoch 32, CIFAR-10 Batch 5:  valid accuracy:0.713000\tlost:1.193573\n",
      "Epoch 33, CIFAR-10 Batch 1:  valid accuracy:0.718200\tlost:1.146370\n",
      "Epoch 33, CIFAR-10 Batch 2:  valid accuracy:0.715000\tlost:1.158874\n",
      "Epoch 33, CIFAR-10 Batch 3:  valid accuracy:0.724400\tlost:1.111777\n",
      "Epoch 33, CIFAR-10 Batch 4:  valid accuracy:0.725800\tlost:1.115953\n",
      "Epoch 33, CIFAR-10 Batch 5:  valid accuracy:0.721600\tlost:1.144326\n",
      "Epoch 34, CIFAR-10 Batch 1:  valid accuracy:0.726000\tlost:1.161305\n",
      "Epoch 34, CIFAR-10 Batch 2:  valid accuracy:0.703400\tlost:1.282836\n",
      "Epoch 34, CIFAR-10 Batch 3:  valid accuracy:0.722000\tlost:1.087379\n",
      "Epoch 34, CIFAR-10 Batch 4:  valid accuracy:0.726600\tlost:1.066922\n",
      "Epoch 34, CIFAR-10 Batch 5:  valid accuracy:0.718200\tlost:1.196073\n",
      "Epoch 35, CIFAR-10 Batch 1:  valid accuracy:0.726000\tlost:1.154344\n",
      "Epoch 35, CIFAR-10 Batch 2:  valid accuracy:0.712200\tlost:1.193573\n",
      "Epoch 35, CIFAR-10 Batch 3:  valid accuracy:0.727600\tlost:1.094263\n",
      "Epoch 35, CIFAR-10 Batch 4:  valid accuracy:0.736600\tlost:1.056428\n",
      "Epoch 35, CIFAR-10 Batch 5:  valid accuracy:0.715200\tlost:1.148995\n",
      "Epoch 36, CIFAR-10 Batch 1:  valid accuracy:0.714000\tlost:1.168580\n",
      "Epoch 36, CIFAR-10 Batch 2:  valid accuracy:0.717400\tlost:1.196598\n",
      "Epoch 36, CIFAR-10 Batch 3:  valid accuracy:0.715000\tlost:1.141499\n",
      "Epoch 36, CIFAR-10 Batch 4:  valid accuracy:0.730400\tlost:1.090125\n",
      "Epoch 36, CIFAR-10 Batch 5:  valid accuracy:0.717400\tlost:1.203444\n",
      "Epoch 37, CIFAR-10 Batch 1:  valid accuracy:0.723200\tlost:1.147718\n",
      "Epoch 37, CIFAR-10 Batch 2:  valid accuracy:0.725000\tlost:1.146023\n",
      "Epoch 37, CIFAR-10 Batch 3:  valid accuracy:0.721400\tlost:1.155470\n",
      "Epoch 37, CIFAR-10 Batch 4:  valid accuracy:0.720800\tlost:1.144506\n",
      "Epoch 37, CIFAR-10 Batch 5:  valid accuracy:0.713600\tlost:1.258439\n",
      "Epoch 38, CIFAR-10 Batch 1:  valid accuracy:0.713200\tlost:1.258055\n",
      "Epoch 38, CIFAR-10 Batch 2:  valid accuracy:0.714200\tlost:1.211112\n",
      "Epoch 38, CIFAR-10 Batch 3:  valid accuracy:0.715600\tlost:1.214868\n",
      "Epoch 38, CIFAR-10 Batch 4:  valid accuracy:0.714400\tlost:1.188517\n",
      "Epoch 38, CIFAR-10 Batch 5:  valid accuracy:0.712200\tlost:1.225121\n",
      "Epoch 39, CIFAR-10 Batch 1:  valid accuracy:0.712200\tlost:1.247525\n",
      "Epoch 39, CIFAR-10 Batch 2:  valid accuracy:0.719600\tlost:1.217381\n",
      "Epoch 39, CIFAR-10 Batch 3:  valid accuracy:0.703000\tlost:1.280256\n",
      "Epoch 39, CIFAR-10 Batch 4:  valid accuracy:0.717000\tlost:1.160022\n",
      "Epoch 39, CIFAR-10 Batch 5:  valid accuracy:0.716800\tlost:1.199851\n",
      "Epoch 40, CIFAR-10 Batch 1:  valid accuracy:0.721800\tlost:1.235497\n",
      "Epoch 40, CIFAR-10 Batch 2:  valid accuracy:0.725200\tlost:1.228195\n",
      "Epoch 40, CIFAR-10 Batch 3:  valid accuracy:0.712600\tlost:1.187373\n",
      "Epoch 40, CIFAR-10 Batch 4:  valid accuracy:0.723800\tlost:1.225254\n",
      "Epoch 40, CIFAR-10 Batch 5:  valid accuracy:0.728200\tlost:1.185651\n"
     ]
    }
   ],
   "source": [
    "\"\"\"\n",
    "DON'T MODIFY ANYTHING IN THIS CELL\n",
    "\"\"\"\n",
    "save_model_path = './image_classification'\n",
    "\n",
    "print('Training...')\n",
    "with tf.Session() as sess:\n",
    "    # Initializing the variables\n",
    "    sess.run(tf.global_variables_initializer())\n",
    "    \n",
    "    # Training cycle\n",
    "    for epoch in range(epochs):\n",
    "        # Loop over all batches\n",
    "        n_batches = 5\n",
    "        for batch_i in range(1, n_batches + 1):\n",
    "            for batch_features, batch_labels in helper.load_preprocess_training_batch(batch_i, batch_size):\n",
    "                train_neural_network(sess, optimizer, keep_probability, batch_features, batch_labels)\n",
    "            print('Epoch {:>2}, CIFAR-10 Batch {}:  '.format(epoch + 1, batch_i), end='')\n",
    "            print_stats(sess, batch_features, batch_labels, cost, accuracy)\n",
    "            \n",
    "    # Save Model\n",
    "    saver = tf.train.Saver()\n",
    "    save_path = saver.save(sess, save_model_path)"
   ]
  },
  {
   "cell_type": "markdown",
   "metadata": {},
   "source": [
    "# 检查点\n",
    "\n",
    "模型已保存到本地。\n",
    "\n",
    "## 测试模型\n",
    "\n",
    "利用测试数据集测试你的模型。这将是最终的准确率。你的准确率应该高于 50%。如果没达到，请继续调整模型结构和参数。"
   ]
  },
  {
   "cell_type": "code",
   "execution_count": 18,
   "metadata": {
    "collapsed": false
   },
   "outputs": [
    {
     "name": "stdout",
     "output_type": "stream",
     "text": [
      "Testing Accuracy: 0.7308148734177216\n",
      "\n"
     ]
    },
    {
     "data": {
      "image/png": "[encoded data removed]",
      "text/plain": [
       "<matplotlib.figure.Figure at 0x7f8106a27710>"
      ]
     },
     "metadata": {
      "image/png": {
       "height": 319,
       "width": 355
      }
     },
     "output_type": "display_data"
    }
   ],
   "source": [
    "\"\"\"\n",
    "DON'T MODIFY ANYTHING IN THIS CELL\n",
    "\"\"\"\n",
    "%matplotlib inline\n",
    "%config InlineBackend.figure_format = 'retina'\n",
    "\n",
    "import tensorflow as tf\n",
    "import pickle\n",
    "import helper\n",
    "import random\n",
    "\n",
    "# Set batch size if not already set\n",
    "try:\n",
    "    if batch_size:\n",
    "        pass\n",
    "except NameError:\n",
    "    batch_size = 64\n",
    "\n",
    "save_model_path = './image_classification'\n",
    "n_samples = 4\n",
    "top_n_predictions = 3\n",
    "\n",
    "def test_model():\n",
    "    \"\"\"\n",
    "    Test the saved model against the test dataset\n",
    "    \"\"\"\n",
    "\n",
    "    test_features, test_labels = pickle.load(open('preprocess_test.p', mode='rb'))\n",
    "    loaded_graph = tf.Graph()\n",
    "\n",
    "    with tf.Session(graph=loaded_graph) as sess:\n",
    "        # Load model\n",
    "        loader = tf.train.import_meta_graph(save_model_path + '.meta')\n",
    "        loader.restore(sess, save_model_path)\n",
    "\n",
    "        # Get Tensors from loaded model\n",
    "        loaded_x = loaded_graph.get_tensor_by_name('x:0')\n",
    "        loaded_y = loaded_graph.get_tensor_by_name('y:0')\n",
    "        loaded_keep_prob = loaded_graph.get_tensor_by_name('keep_prob:0')\n",
    "        loaded_logits = loaded_graph.get_tensor_by_name('logits:0')\n",
    "        loaded_acc = loaded_graph.get_tensor_by_name('accuracy:0')\n",
    "        \n",
    "        # Get accuracy in batches for memory limitations\n",
    "        test_batch_acc_total = 0\n",
    "        test_batch_count = 0\n",
    "        \n",
    "        for test_feature_batch, test_label_batch in helper.batch_features_labels(test_features, test_labels, batch_size):\n",
    "            test_batch_acc_total += sess.run(\n",
    "                loaded_acc,\n",
    "                feed_dict={loaded_x: test_feature_batch, loaded_y: test_label_batch, loaded_keep_prob: 1.0})\n",
    "            test_batch_count += 1\n",
    "\n",
    "        print('Testing Accuracy: {}\\n'.format(test_batch_acc_total/test_batch_count))\n",
    "\n",
    "        # Print Random Samples\n",
    "        random_test_features, random_test_labels = tuple(zip(*random.sample(list(zip(test_features, test_labels)), n_samples)))\n",
    "        random_test_predictions = sess.run(\n",
    "            tf.nn.top_k(tf.nn.softmax(loaded_logits), top_n_predictions),\n",
    "            feed_dict={loaded_x: random_test_features, loaded_y: random_test_labels, loaded_keep_prob: 1.0})\n",
    "        helper.display_image_predictions(random_test_features, random_test_labels, random_test_predictions)\n",
    "\n",
    "\n",
    "test_model()"
   ]
  },
  {
   "cell_type": "markdown",
   "metadata": {},
   "source": [
    "## 为何准确率只有50-80%？\n",
    "\n",
    "你可能想问，为何准确率不能更高了？首先，对于简单的 CNN 网络来说，50% 已经不低了。纯粹猜测的准确率为10%。但是，你可能注意到有人的准确率[远远超过 80%](http://rodrigob.github.io/are_we_there_yet/build/classification_datasets_results.html#43494641522d3130)。这是因为我们还没有介绍所有的神经网络知识。我们还需要掌握一些其他技巧。\n",
    "\n",
    "## 提交项目\n",
    "\n",
    "提交项目时，确保先运行所有单元，然后再保存记事本。将 notebook 文件另存为“dlnd_image_classification.ipynb”，再在目录 \"File\" -> \"Download as\" 另存为 HTML 格式。请在提交的项目中包含 “helper.py” 和 “problem_unittests.py” 文件。\n"
   ]
  }
 ],
 "metadata": {
  "kernelspec": {
   "display_name": "Python 3",
   "language": "python",
   "name": "python3"
  },
  "language_info": {
   "codemirror_mode": {
    "name": "ipython",
    "version": 3
   },
   "file_extension": ".py",
   "mimetype": "text/x-python",
   "name": "python",
   "nbconvert_exporter": "python",
   "pygments_lexer": "ipython3",
   "version": "3.6.0"
  }
 },
 "nbformat": 4,
 "nbformat_minor": 1
}
